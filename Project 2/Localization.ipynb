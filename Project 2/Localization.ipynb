{
 "cells": [
  {
   "cell_type": "markdown",
   "metadata": {},
   "source": [
    "# Localization"
   ]
  },
  {
   "cell_type": "code",
   "execution_count": 93,
   "metadata": {},
   "outputs": [],
   "source": [
    "import numpy as np\n",
    "from spatialmath.base import skew, qeye\n",
    "from spatialmath import UnitQuaternion as UQ"
   ]
  },
  {
   "cell_type": "markdown",
   "metadata": {},
   "source": [
    "# Problem 1"
   ]
  },
  {
   "cell_type": "code",
   "execution_count": 94,
   "metadata": {},
   "outputs": [
    {
     "name": "stdout",
     "output_type": "stream",
     "text": [
      "Estimated quaternion after first step:  [[0.92387953 0.38268343 0.         0.        ]]\n",
      "Estimated quaternion after second step:  [[ 0.85355339  0.35355339 -0.14644661  0.35355339]]\n",
      "Estimated quaternion after third step:  [[ 0.92387953  0.         -0.27059805  0.27059805]]\n",
      "Estimated quaternion after fourth step:  [[ 0.95710678  0.10355339 -0.25       -0.10355339]]\n"
     ]
    }
   ],
   "source": [
    "#define function that takes current quaternion, angular velocity, and timestep to produce an estimated quaternion\n",
    "def fw_step(q_curr, ang_vel, t_step): #ang_vel must be shape (1, 3)\n",
    "    if ang_vel.shape != (1, 3):\n",
    "        raise ValueError(f\"Expected angular velocity shape (1, 3), got {ang_vel.shape}\")\n",
    "    if q_curr.shape != (1, 4):\n",
    "        raise ValueError(f\"Expected input quaternion shape (1, 4), got {q_curr.shape}\")\n",
    "\n",
    "    #construct the omega Matrix\n",
    "    omegaM = np.block([\n",
    "    [0                     ,                 -ang_vel],\n",
    "    [ang_vel.reshape(3, -1),           -skew(ang_vel)]\n",
    "    ])\n",
    "\n",
    "    #compute closed form exponential\n",
    "    ang_vel_norm = np.linalg.norm(ang_vel)\n",
    "    e = (np.cos(ang_vel_norm*0.5*t_step) * np.eye(4,4)) + (np.sin(ang_vel_norm*0.5*t_step) * (omegaM/ang_vel_norm))\n",
    "    \n",
    "    #construct updated quaternion\n",
    "    q_update = e @ q_curr.reshape(4,-1)\n",
    "   \n",
    "    return q_update.reshape(-1,4)\n",
    "\n",
    "\n",
    "timestep = 0.25 #1/4 second\n",
    "omega_x = np.array([[np.pi, 0, 0]])\n",
    "omega_z = np. array([[0, 0, np.pi]])\n",
    "q_initial = np.array([qeye()])\n",
    "\n",
    "#Rotate about the body x-axis for 1/4 s at π rad/s.\n",
    "q_1 = fw_step(q_initial, omega_x, timestep)\n",
    "print(\"Estimated quaternion after first step: \", q_1)\n",
    "\n",
    "#Rotate about the body z-axis for 1/4 s at π rad/s\n",
    "q_2 = fw_step(q_1, omega_z, timestep)\n",
    "print(\"Estimated quaternion after second step: \", q_2)\n",
    "\n",
    "#Rotate about the body x-axis for 1/4 s at −π rad/s\n",
    "q_3 = fw_step(q_2, -omega_x, timestep)\n",
    "print(\"Estimated quaternion after third step: \", q_3)\n",
    "\n",
    "#Rotate about the body z-axis for 1/4 s at −π rad/s\n",
    "q_4 = fw_step(q_3, -omega_z, timestep)\n",
    "print(\"Estimated quaternion after fourth step: \", q_4)"
   ]
  },
  {
   "cell_type": "markdown",
   "metadata": {},
   "source": [
    " Q1) Report the rotation q(1) at the end of this motion, i.e., after 1s has elapsed. Does it hold that q(1) = q(0)? Discuss why this is true or false.\n",
    "\n",
    " q(1) != q(0) for two potential reasons:\n",
    " 1. In order to get back to intial orientation the rotation backwards through the z-axis would have to come first. Doing a rotation xzxz is not the same as doing xzzx\n",
    " 2. 0.25 second time step is a large amount of time for our linearization assumption. t_step should be sufficiently small to properly linearize our integration."
   ]
  },
  {
   "cell_type": "markdown",
   "metadata": {},
   "source": [
    "# Problem 2"
   ]
  },
  {
   "cell_type": "code",
   "execution_count": null,
   "metadata": {},
   "outputs": [],
   "source": []
  }
 ],
 "metadata": {
  "kernelspec": {
   "display_name": ".venv",
   "language": "python",
   "name": "python3"
  },
  "language_info": {
   "codemirror_mode": {
    "name": "ipython",
    "version": 3
   },
   "file_extension": ".py",
   "mimetype": "text/x-python",
   "name": "python",
   "nbconvert_exporter": "python",
   "pygments_lexer": "ipython3",
   "version": "3.12.8"
  }
 },
 "nbformat": 4,
 "nbformat_minor": 2
}
