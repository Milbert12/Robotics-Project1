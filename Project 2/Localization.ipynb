{
 "cells": [
  {
   "cell_type": "markdown",
   "metadata": {},
   "source": [
    "# Problem 1"
   ]
  },
  {
   "cell_type": "code",
   "execution_count": null,
   "metadata": {},
   "outputs": [
    {
     "name": "stdout",
     "output_type": "stream",
     "text": [
      "(1, 3)\n",
      "(3, 1)\n",
      "(3, 3)\n",
      "[[ 0 -1  0  0]\n",
      " [ 1  0  0  0]\n",
      " [ 0  0  0  1]\n",
      " [ 0  0 -1  0]]\n"
     ]
    }
   ],
   "source": [
    "import numpy as np\n",
    "from spatialmath.base import skew\n",
    "#define function that takes angular velocity and timestep to produce quaternion\n",
    "\n",
    "def fw_step(ang_vel,t): #ang_vel must be shape (1, 3)\n",
    "    if ang_vel.shape != (1, 3):\n",
    "        raise ValueError(f\"Expected angular velocity shape (1, 3), got {ang_vel.shape}\")\n",
    "\n",
    "    #construct the omega Matrix\n",
    "    omegaM = np.block([\n",
    "    [0                     ,                 -ang_vel],\n",
    "    [ang_vel.reshape(3, -1),           -skew(ang_vel)]\n",
    "    ])\n",
    "\n",
    "    #extract the angle from current quaternion\n",
    "\n",
    "    #compute closed form exponential\n",
    "\n",
    "    #construct updated quaternion\n",
    "    \n",
    "    np.exp(-0.5*omegaM*t)\n",
    "    return omegaM\n",
    "\n",
    "\n",
    "test_w = np.array([[1,0,0]])\n",
    "\n",
    "print(test_w.shape)\n",
    "print(test_w.reshape(3,-1).shape)\n",
    "print(skew(test_w).shape)\n",
    "\n",
    "print(fw_step(test_w,1))\n"
   ]
  },
  {
   "cell_type": "markdown",
   "metadata": {},
   "source": []
  }
 ],
 "metadata": {
  "kernelspec": {
   "display_name": ".venv",
   "language": "python",
   "name": "python3"
  },
  "language_info": {
   "codemirror_mode": {
    "name": "ipython",
    "version": 3
   },
   "file_extension": ".py",
   "mimetype": "text/x-python",
   "name": "python",
   "nbconvert_exporter": "python",
   "pygments_lexer": "ipython3",
   "version": "3.12.8"
  }
 },
 "nbformat": 4,
 "nbformat_minor": 2
}
