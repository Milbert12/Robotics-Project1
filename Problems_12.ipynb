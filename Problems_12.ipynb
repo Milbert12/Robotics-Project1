{
 "cells": [
  {
   "cell_type": "markdown",
   "metadata": {},
   "source": [
    "# Furuta Pendulum"
   ]
  },
  {
   "cell_type": "code",
   "execution_count": 57,
   "metadata": {},
   "outputs": [
    {
     "data": {
      "text/latex": [
       "$\\displaystyle \\left[\\begin{matrix}- \\sin{\\left(\\theta_{1}{\\left(t \\right)} \\right)} & \\cos{\\left(\\theta_{1}{\\left(t \\right)} \\right)} \\cos{\\left(\\theta_{2}{\\left(t \\right)} \\right)} & \\sin{\\left(\\theta_{2}{\\left(t \\right)} \\right)} \\cos{\\left(\\theta_{1}{\\left(t \\right)} \\right)} & 0.8 \\sin{\\left(\\theta_{1}{\\left(t \\right)} \\right)} + 0.8 \\sin{\\left(\\theta_{2}{\\left(t \\right)} \\right)} \\cos{\\left(\\theta_{1}{\\left(t \\right)} \\right)}\\\\\\cos{\\left(\\theta_{1}{\\left(t \\right)} \\right)} & \\sin{\\left(\\theta_{1}{\\left(t \\right)} \\right)} \\cos{\\left(\\theta_{2}{\\left(t \\right)} \\right)} & \\sin{\\left(\\theta_{1}{\\left(t \\right)} \\right)} \\sin{\\left(\\theta_{2}{\\left(t \\right)} \\right)} & 0.8 \\sin{\\left(\\theta_{1}{\\left(t \\right)} \\right)} \\sin{\\left(\\theta_{2}{\\left(t \\right)} \\right)} - 0.8 \\cos{\\left(\\theta_{1}{\\left(t \\right)} \\right)}\\\\0 & \\sin{\\left(\\theta_{2}{\\left(t \\right)} \\right)} & - \\cos{\\left(\\theta_{2}{\\left(t \\right)} \\right)} & 1.2 - 0.8 \\cos{\\left(\\theta_{2}{\\left(t \\right)} \\right)}\\\\0 & 0 & 0 & 1\\end{matrix}\\right]$"
      ],
      "text/plain": [
       "Matrix([\n",
       "[-sin(theta_1(t)), cos(theta_1(t))*cos(theta_2(t)), sin(theta_2(t))*cos(theta_1(t)), 0.8*sin(theta_1(t)) + 0.8*sin(theta_2(t))*cos(theta_1(t))],\n",
       "[ cos(theta_1(t)), sin(theta_1(t))*cos(theta_2(t)), sin(theta_1(t))*sin(theta_2(t)), 0.8*sin(theta_1(t))*sin(theta_2(t)) - 0.8*cos(theta_1(t))],\n",
       "[               0,                 sin(theta_2(t)),                -cos(theta_2(t)),                                 1.2 - 0.8*cos(theta_2(t))],\n",
       "[               0,                               0,                               0,                                                         1]])"
      ]
     },
     "execution_count": 57,
     "metadata": {},
     "output_type": "execute_result"
    }
   ],
   "source": [
    "import numpy as np\n",
    "import sympy as sp\n",
    "from sympy import Matrix, Function, solve, simplify, nsolve\n",
    "from math import pi\n",
    "from spatialmath.base import r2q, tr2angvec, skew, sin, cos, sqrt, trinv, vex\n",
    "from spatialmath import SO3, SE3, Twist3\n",
    "\n",
    "#Function declarations\n",
    "def fw_kin(angle1, angle2, frame):\n",
    "\n",
    "    d1, d2, d3 = 1.2, 0.8, 0.8\n",
    "\n",
    "    c1 = cos(angle1); s1 = sin(angle1)\n",
    "    c2 = cos(angle2); s2 = sin(angle2)\n",
    "\n",
    "    #Set zero orientations without joints\n",
    "    R_01_zero = np.array([\n",
    "        [1, 0, 0],\n",
    "        [0, 0, -1],\n",
    "        [0, 1, 0]\n",
    "    ])\n",
    "\n",
    "    R_12_zero = np.array([\n",
    "        [1, 0, 0],\n",
    "        [0, 0, -1],\n",
    "        [0, 1, 0]\n",
    "    ])\n",
    "\n",
    "    R_2c_zero = np.array([\n",
    "        [0, 1, 0],\n",
    "        [-1, 0, 0],\n",
    "        [0, 0, 1]\n",
    "    ])\n",
    "\n",
    "    #Set Rotation matrices between frames\n",
    "    R_w0 = np.array([\n",
    "        [c1, -s1, 0],\n",
    "        [s1, c1, 0],\n",
    "        [0, 0, 1]\n",
    "    ])\n",
    "\n",
    "    R_01 = R_w0 @ R_01_zero\n",
    "\n",
    "    R_12 = np.array([\n",
    "        [c2, -s2, 0],\n",
    "        [s2, c2, 0],\n",
    "        [0, 0, 1]\n",
    "    ])@R_12_zero\n",
    "\n",
    "    R_2c = R_2c_zero\n",
    "\n",
    "    H_01 = SE3.Rt(R_01, [0, 0, d1])\n",
    "    H_12 = SE3.Rt(R_12, [0, 0, d2])\n",
    "    H_2c = SE3.Rt(R_2c, [0, 0, d3])\n",
    "\n",
    "    if(frame == 1):\n",
    "        H_final = H_01\n",
    "    elif(frame == 2):\n",
    "        H_final = H_01 * H_12\n",
    "    elif(frame == 3):\n",
    "        H_final = H_01 * H_12 * H_2c\n",
    "\n",
    "    return H_final\n",
    "\n",
    "\n",
    "\n",
    "#Create symbolic Matrix Representation\n",
    "t = sp.symbols('t')\n",
    "t_1 = sp.Function('theta_1')(t)\n",
    "t_2 = sp.Function('theta_2')(t)\n",
    "\n",
    "d1,d2,d3 = 1.2, 0.8, 0.8\n",
    "\n",
    "sym_H01 = Matrix([\n",
    "    [cos(t_1), 0, sin(t_1), 0],\n",
    "    [sin(t_1), 0, -cos(t_1), 0],\n",
    "    [0, 1, 0, d1],\n",
    "    [0, 0, 0, 1]\n",
    "])\n",
    "sym_H12 = Matrix([\n",
    "    [cos(t_2), 0, sin(t_2), 0],\n",
    "    [sin(t_2), 0, -cos(t_2), 0],\n",
    "    [0, 1, 0, d2],\n",
    "    [0, 0, 0, 1]\n",
    "])\n",
    "sym_H2c = Matrix([\n",
    "    [0, 1, 0, 0],\n",
    "    [-1, 0, 0, 0],\n",
    "    [0, 0, 1, d3],\n",
    "    [0, 0, 0, 1]\n",
    "])\n",
    "\n",
    "sym_H0c = sym_H01 @ sym_H12 @ sym_H2c\n",
    "sym_H02 = sym_H01 @ sym_H12\n",
    "\n",
    "sym_H0c"
   ]
  },
  {
   "cell_type": "markdown",
   "metadata": {},
   "source": [
    "## Problem 1a\n",
    "> DONE\n"
   ]
  },
  {
   "cell_type": "code",
   "execution_count": 58,
   "metadata": {},
   "outputs": [
    {
     "name": "stdout",
     "output_type": "stream",
     "text": [
      "Transformation from world frame to frame 3 is\n",
      "  \u001b[38;5;1m-0.5     \u001b[0m \u001b[38;5;1m-0.1927  \u001b[0m \u001b[38;5;1m 0.8443  \u001b[0m \u001b[38;5;4m 1.075   \u001b[0m  \u001b[0m\n",
      "  \u001b[38;5;1m-0.866   \u001b[0m \u001b[38;5;1m 0.1113  \u001b[0m \u001b[38;5;1m-0.4875  \u001b[0m \u001b[38;5;4m 0.3028  \u001b[0m  \u001b[0m\n",
      "  \u001b[38;5;1m 0       \u001b[0m \u001b[38;5;1m-0.9749  \u001b[0m \u001b[38;5;1m-0.2225  \u001b[0m \u001b[38;5;4m 1.022   \u001b[0m  \u001b[0m\n",
      "  \u001b[38;5;244m 0       \u001b[0m \u001b[38;5;244m 0       \u001b[0m \u001b[38;5;244m 0       \u001b[0m \u001b[38;5;244m 1       \u001b[0m  \u001b[0m\n",
      "\n",
      "\n",
      "Rotation Matrix \n",
      " [[-0.5        -0.19270878  0.84431234]\n",
      " [-0.8660254   0.11126047 -0.48746396]\n",
      " [ 0.         -0.97492791 -0.22252093]]\n",
      "\n",
      "Quaternions (s, k1, k2, k3)\n",
      " [ 0.3117449  -0.39091574  0.67708593 -0.53995801]\n"
     ]
    }
   ],
   "source": [
    "#set joint angles to (pi/3, -(3*pi)/7)\n",
    "#frame 3 position and orientation\n",
    "\n",
    "theta1 = (pi/3)+pi/2\n",
    "theta2 = -(3*pi)/7\n",
    "\n",
    "\n",
    "print(\"Transformation from world frame to frame 3 is\")\n",
    "H1a = fw_kin(theta1, theta2, 3)\n",
    "print(H1a)\n",
    "\n",
    "print(\"\\nRotation Matrix \\n\", H1a.R)\n",
    "\n",
    "print(\"\\nQuaternions (s, k1, k2, k3)\\n\", r2q(H1a.R))\n",
    "\n",
    "\n",
    "\n"
   ]
  },
  {
   "cell_type": "markdown",
   "metadata": {},
   "source": [
    "## Problem 1b\n",
    "> DONE"
   ]
  },
  {
   "cell_type": "code",
   "execution_count": 59,
   "metadata": {},
   "outputs": [
    {
     "name": "stdout",
     "output_type": "stream",
     "text": [
      "Transformation from world frame to frame 2 is\n",
      "  \u001b[38;5;1m-0.1927  \u001b[0m \u001b[38;5;1m 0.5     \u001b[0m \u001b[38;5;1m 0.8443  \u001b[0m \u001b[38;5;4m 0.4     \u001b[0m  \u001b[0m\n",
      "  \u001b[38;5;1m 0.1113  \u001b[0m \u001b[38;5;1m 0.866   \u001b[0m \u001b[38;5;1m-0.4875  \u001b[0m \u001b[38;5;4m 0.6928  \u001b[0m  \u001b[0m\n",
      "  \u001b[38;5;1m-0.9749  \u001b[0m \u001b[38;5;1m 0       \u001b[0m \u001b[38;5;1m-0.2225  \u001b[0m \u001b[38;5;4m 1.2     \u001b[0m  \u001b[0m\n",
      "  \u001b[38;5;244m 0       \u001b[0m \u001b[38;5;244m 0       \u001b[0m \u001b[38;5;244m 0       \u001b[0m \u001b[38;5;244m 1       \u001b[0m  \u001b[0m\n",
      "\n",
      "\n",
      "Rotation Matrix \n",
      " [[-0.19270878  0.5         0.84431234]\n",
      " [ 0.11126047  0.8660254  -0.48746396]\n",
      " [-0.97492791  0.         -0.22252093]]\n",
      "\n",
      "Quaternions (s, k1, k2, k3)\n",
      " [ 0.6022449   0.20235288  0.75519122 -0.16137104]\n"
     ]
    }
   ],
   "source": [
    "#joint angles from 1a\n",
    "#frame 2\n",
    "\n",
    "\n",
    "print(\"Transformation from world frame to frame 2 is\")\n",
    "H1b = fw_kin(theta1, theta2, 2)\n",
    "print(H1b)\n",
    "\n",
    "print(\"\\nRotation Matrix \\n\", H1b.R)\n",
    "\n",
    "\n",
    "print(\"\\nQuaternions (s, k1, k2, k3)\\n\", r2q(H1b.R))\n",
    "\n",
    "\n",
    "\n"
   ]
  },
  {
   "cell_type": "markdown",
   "metadata": {},
   "source": [
    "## Problem 1c\n",
    "> DONE"
   ]
  },
  {
   "cell_type": "code",
   "execution_count": 60,
   "metadata": {},
   "outputs": [
    {
     "name": "stdout",
     "output_type": "stream",
     "text": [
      "\n",
      "Axis Angle Representation 1a (angle, k1, k2, k3 )\n",
      " 2.5075348579646866 [-0.41141843  0.71259763 -0.56827765]\n",
      "\n",
      "Axis Angle Representation 1b (angle, k1, k2, k3 )\n",
      " 1.8489722552687557 [ 0.25347612  0.94598578 -0.20214046]\n",
      "\n",
      "1a recovered rotation matrix from rodriguez formula\n",
      " [[-0.5    -0.1927  0.8443]\n",
      " [-0.866   0.1113 -0.4875]\n",
      " [ 0.     -0.9749 -0.2225]]\n",
      "\n",
      "1b recovered rotation matrix from rodriguez formula\n",
      " [[-0.1927  0.5     0.8443]\n",
      " [ 0.1113  0.866  -0.4875]\n",
      " [-0.9749  0.     -0.2225]]\n"
     ]
    }
   ],
   "source": [
    "#axis angle representation\n",
    "#rodriguez formula\n",
    "\n",
    "angle_1a, axis_1a = tr2angvec(H1a.R)\n",
    "print(\"\\nAxis Angle Representation 1a (angle, k1, k2, k3 )\\n\", angle_1a, axis_1a)\n",
    "\n",
    "angle_1b, axis_1b = tr2angvec(H1b.R)\n",
    "print(\"\\nAxis Angle Representation 1b (angle, k1, k2, k3 )\\n\", angle_1b, axis_1b)\n",
    "\n",
    "I = SO3()\n",
    "\n",
    "Rod_1a = I + sin(angle_1a)*skew(axis_1a) + (1 - cos(angle_1a))*(skew(axis_1a)@skew(axis_1a))\n",
    "\n",
    "Rod_1b = I + sin(angle_1b)*skew(axis_1b) + (1 - cos(angle_1b))*(skew(axis_1b)@skew(axis_1b))\n",
    "\n",
    "print(\"\\n1a recovered rotation matrix from rodriguez formula\\n\", Rod_1a.round(4))\n",
    "\n",
    "print(\"\\n1b recovered rotation matrix from rodriguez formula\\n\", Rod_1b.round(4))\n"
   ]
  },
  {
   "cell_type": "markdown",
   "metadata": {},
   "source": [
    "## Problem 1d"
   ]
  },
  {
   "cell_type": "code",
   "execution_count": 61,
   "metadata": {},
   "outputs": [
    {
     "name": "stdout",
     "output_type": "stream",
     "text": [
      "⎡   sin(θ₂)⋅cos(θ₁) + 0.5   ⎤\n",
      "⎢                           ⎥\n",
      "⎢   sin(θ₁)⋅sin(θ₂) - 0.5   ⎥\n",
      "⎢                           ⎥\n",
      "⎣0.707106781186548 - cos(θ₂)⎦\n",
      "[{θ₁: -0.785398163397449, θ₂: 5.49778714378214}, {θ₁: 2.35619449019234, θ₂: 0. ↪\n",
      "\n",
      "↪ 785398163397448}]\n"
     ]
    }
   ],
   "source": [
    "k_1d = Matrix([-0.5, 0.5, -sqrt(2)/2])\n",
    "z_1d = Matrix([sym_H0c[0,2], sym_H0c[1,2], sym_H0c[2,2]])\n",
    "\n",
    "\n",
    "\n",
    "eqns_1d = z_1d - k_1d\n",
    "eqns_1d = eqns_1d.subs({t_1: 'theta_1'})\n",
    "eqns_1d = eqns_1d.subs({t_2: 'theta_2'})\n",
    "\n",
    "\n",
    "solutions_1d = solve(eqns_1d, ('theta_1', 'theta_2'), dict=True)\n",
    "\n",
    "sp.pprint(eqns_1d)\n",
    "\n",
    "sp.pprint(solutions_1d)"
   ]
  },
  {
   "cell_type": "markdown",
   "metadata": {},
   "source": [
    "## Problem 1e"
   ]
  },
  {
   "cell_type": "code",
   "execution_count": 118,
   "metadata": {},
   "outputs": [
    {
     "name": "stdout",
     "output_type": "stream",
     "text": [
      "\n",
      "Solution  1 \n",
      "\n",
      "⎡-1.07541015431323  1.075⎤\n",
      "⎢                        ⎥\n",
      "⎢      0.303        0.303⎥\n",
      "⎢                        ⎥\n",
      "⎣      1.022        1.022⎦\n",
      "\n",
      "Solution  2 \n",
      "\n",
      "⎡-1.07541015431323  1.075⎤\n",
      "⎢                        ⎥\n",
      "⎢      0.303        0.303⎥\n",
      "⎢                        ⎥\n",
      "⎣      1.022        1.022⎦\n",
      "\n",
      "Solution  3 \n",
      "\n",
      "⎡1.07541015431323  1.075⎤\n",
      "⎢                       ⎥\n",
      "⎢     0.303        0.303⎥\n",
      "⎢                       ⎥\n",
      "⎣     1.022        1.022⎦\n",
      "\n",
      "Solution  4 \n",
      "\n",
      "⎡1.07541015431323  1.075⎤\n",
      "⎢                       ⎥\n",
      "⎢     0.303        0.303⎥\n",
      "⎢                       ⎥\n",
      "⎣     1.022        1.022⎦\n",
      "\n",
      "Final Solution 1\n",
      "\n",
      "{θ₁: 1.07272370972679, θ₂: 1.34641832379787}\n",
      "\n",
      "Final Solution 2\n",
      "\n",
      "{θ₁: 2.61813591673788, θ₂: 4.93676698338171}\n"
     ]
    }
   ],
   "source": [
    "k_1e = Matrix([1.075, 0.303, 1.022])\n",
    "d_1e = Matrix([sym_H0c[0,3], sym_H0c[1,3], sym_H0c[2,3]])\n",
    "\n",
    "theta_1, theta_2 = sp.symbols('theta_1 theta_2')\n",
    "\n",
    "eq1_1e = d_1e[0].subs({t_1: theta_1})\n",
    "eq1_1e = eq1_1e.subs({t_2: theta_2})\n",
    "Eq1_1e = sp.Eq(eq1_1e, k_1e[0])\n",
    "\n",
    "eq2_1e = d_1e[1].subs({t_1: theta_1})\n",
    "eq2_1e = eq2_1e.subs({t_2: theta_2})\n",
    "Eq2_1e = sp.Eq(eq2_1e, k_1e[1])\n",
    "\n",
    "eq3_1e = d_1e[2].subs({t_2: theta_2})\n",
    "Eq3_1e = sp.Eq(eq3_1e, k_1e[2])\n",
    "\n",
    "\n",
    "solution_1e = solve([Eq1_1e, Eq2_1e, Eq3_1e], (theta_1, theta_2), check=False)\n",
    "\n",
    "solution_1e_labeled = solve([Eq1_1e, Eq2_1e, Eq3_1e], (theta_1, theta_2), check=False, dict=True)\n",
    "\n",
    "for i in range(0, 4):\n",
    "    sol = solution_1e[i]\n",
    "    M = Matrix([\n",
    "        [eq1_1e, k_1e[0]],\n",
    "        [eq2_1e, k_1e[1]],\n",
    "        [eq3_1e, k_1e[2]]\n",
    "    ])\n",
    "    test = M.subs(theta_1, sol[0])\n",
    "    test = test.subs(theta_2, sol[1])\n",
    "    print(\"\\nSolution \",i+1,\"\\n\")\n",
    "    sp.pprint(test)\n",
    "\n",
    "final_solutions_1e = [solution_1e_labeled[2], solution_1e_labeled[3]]\n",
    "\n",
    "print(\"\\nFinal Solution 1\\n\")\n",
    "sp.pprint(final_solutions_1e[0])\n",
    "print(\"\\nFinal Solution 2\\n\")\n",
    "sp.pprint(final_solutions_1e[1])\n"
   ]
  },
  {
   "cell_type": "markdown",
   "metadata": {},
   "source": [
    "## Problem 2a\n",
    "> DONE"
   ]
  },
  {
   "cell_type": "code",
   "execution_count": null,
   "metadata": {},
   "outputs": [
    {
     "name": "stdout",
     "output_type": "stream",
     "text": [
      "Spatial Twist 2a\n",
      "\n",
      "⎡-2.07846096908265⎤\n",
      "⎢                 ⎥\n",
      "⎢       1.2       ⎥\n",
      "⎢                 ⎥\n",
      "⎢        0        ⎥\n",
      "⎢                 ⎥\n",
      "⎢       1.0       ⎥\n",
      "⎢                 ⎥\n",
      "⎢1.73205080756888 ⎥\n",
      "⎢                 ⎥\n",
      "⎣        1        ⎦\n",
      "Body Twist 2a\n",
      "\n",
      "⎡-0.779942329745459⎤\n",
      "⎢                  ⎥\n",
      "⎢ 1.77801674716505 ⎥\n",
      "⎢                  ⎥\n",
      "⎢-0.779942329745459⎥\n",
      "⎢                  ⎥\n",
      "⎢        -2        ⎥\n",
      "⎢                  ⎥\n",
      "⎢-0.974927912181824⎥\n",
      "⎢                  ⎥\n",
      "⎣-0.222520933956314⎦\n"
     ]
    },
    {
     "data": {
      "text/latex": [
       "$\\displaystyle \\left[\\begin{matrix}0.8 \\sin{\\left(\\theta_{2}{\\left(t \\right)} \\right)} \\frac{d}{d t} \\theta_{1}{\\left(t \\right)}\\\\0.8 \\cos{\\left(\\theta_{2}{\\left(t \\right)} \\right)} \\frac{d}{d t} \\theta_{1}{\\left(t \\right)} + 0.8 \\frac{d}{d t} \\theta_{2}{\\left(t \\right)}\\\\0.8 \\sin{\\left(\\theta_{2}{\\left(t \\right)} \\right)} \\frac{d}{d t} \\theta_{1}{\\left(t \\right)}\\\\- \\frac{d}{d t} \\theta_{2}{\\left(t \\right)}\\\\\\sin{\\left(\\theta_{2}{\\left(t \\right)} \\right)} \\frac{d}{d t} \\theta_{1}{\\left(t \\right)}\\\\- \\cos{\\left(\\theta_{2}{\\left(t \\right)} \\right)} \\frac{d}{d t} \\theta_{1}{\\left(t \\right)}\\end{matrix}\\right]$"
      ],
      "text/plain": [
       "Matrix([\n",
       "[                                0.8*sin(theta_2(t))*Derivative(theta_1(t), t)],\n",
       "[0.8*cos(theta_2(t))*Derivative(theta_1(t), t) + 0.8*Derivative(theta_2(t), t)],\n",
       "[                                0.8*sin(theta_2(t))*Derivative(theta_1(t), t)],\n",
       "[                                                   -Derivative(theta_2(t), t)],\n",
       "[                                    sin(theta_2(t))*Derivative(theta_1(t), t)],\n",
       "[                                   -cos(theta_2(t))*Derivative(theta_1(t), t)]])"
      ]
     },
     "execution_count": 55,
     "metadata": {},
     "output_type": "execute_result"
    }
   ],
   "source": [
    "\n",
    "#set dtheta 1 and 2 for problem\n",
    "dtheta1 = 1\n",
    "dtheta2 = 2\n",
    "\n",
    "\n",
    "#Calculate inverse and derivative of Transformation Matrix\n",
    "dsym_H0c = sp.diff(sym_H0c, t)\n",
    "inv_sym_H0c = trinv(np.array(sym_H0c))\n",
    "inv_sym_H0c = Matrix(inv_sym_H0c)\n",
    "\n",
    "#Spatial Twist\n",
    "spatial_twist_2a = simplify(dsym_H0c @ inv_sym_H0c)\n",
    "\n",
    "spatial_omega_2a = spatial_twist_2a[0:3, 0:3]\n",
    "spatial_omega_2a = Matrix(vex(np.array(spatial_omega_2a)))\n",
    "\n",
    "spatial_vel_2a = spatial_twist_2a[0:3, 3]\n",
    "\n",
    "#Twist 6x1 Vector Form\n",
    "spatial_twistv_2a = Matrix([\n",
    "    [spatial_vel_2a],\n",
    "    [spatial_omega_2a]\n",
    "])\n",
    "spatial_twistv_2a_answer = spatial_twistv_2a.subs({sp.Derivative(t_1, t): dtheta1}).subs({t_1: theta1}) #This is how to substitute at the end\n",
    "spatial_twistv_2a_answer = simplify(spatial_twistv_2a_answer.subs({sp.Derivative(t_2, t): dtheta2}).subs({t_2: theta2}))\n",
    "\n",
    "#Body Twist\n",
    "body_twist_2a = simplify(inv_sym_H0c @ dsym_H0c)\n",
    "\n",
    "body_omega_2a = body_twist_2a[0:3, 0:3]\n",
    "body_omega_2a = Matrix(vex(np.array(body_omega_2a)))\n",
    "\n",
    "body_vel_2a = body_twist_2a[0:3, 3]\n",
    "\n",
    "#Twist 6x1 Vector Form\n",
    "body_twistv_2a = Matrix([\n",
    "    [body_vel_2a],\n",
    "    [body_omega_2a]\n",
    "])\n",
    "body_twistv_2a_answer = body_twistv_2a.subs({sp.Derivative(t_1, t): dtheta1}).subs({t_1: theta1})\n",
    "body_twistv_2a_answer = simplify(body_twistv_2a_answer.subs({sp.Derivative(t_2, t): dtheta2}).subs({t_2: theta2}))\n",
    "\n",
    "print(\"Spatial Twist 2a\\n\")\n",
    "sp.pprint(spatial_twistv_2a_answer)\n",
    "print(\"Body Twist 2a\\n\")\n",
    "sp.pprint(body_twistv_2a_answer)\n",
    "\n",
    "body_twistv_2a\n",
    "\n"
   ]
  },
  {
   "cell_type": "markdown",
   "metadata": {},
   "source": [
    "## Problem 2b\n",
    "> DONE"
   ]
  },
  {
   "cell_type": "code",
   "execution_count": null,
   "metadata": {},
   "outputs": [
    {
     "name": "stdout",
     "output_type": "stream",
     "text": [
      "Spatial Twist 2b\n",
      "\n",
      "⎡-2.07846096908265⎤\n",
      "⎢                 ⎥\n",
      "⎢       1.2       ⎥\n",
      "⎢                 ⎥\n",
      "⎢        0        ⎥\n",
      "⎢                 ⎥\n",
      "⎢       1.0       ⎥\n",
      "⎢                 ⎥\n",
      "⎢1.73205080756888 ⎥\n",
      "⎢                 ⎥\n",
      "⎣        1        ⎦\n",
      "Body Twist 2b\n",
      "\n",
      "⎡0.178016747165052 ⎤\n",
      "⎢                  ⎥\n",
      "⎢        0         ⎥\n",
      "⎢                  ⎥\n",
      "⎢-0.779942329745459⎥\n",
      "⎢                  ⎥\n",
      "⎢-0.974927912181824⎥\n",
      "⎢                  ⎥\n",
      "⎢        2         ⎥\n",
      "⎢                  ⎥\n",
      "⎣-0.222520933956314⎦\n"
     ]
    },
    {
     "data": {
      "text/latex": [
       "$\\displaystyle \\left[\\begin{matrix}0.8 \\cos{\\left(\\theta_{2}{\\left(t \\right)} \\right)} \\frac{d}{d t} \\theta_{1}{\\left(t \\right)}\\\\0\\\\0.8 \\sin{\\left(\\theta_{2}{\\left(t \\right)} \\right)} \\frac{d}{d t} \\theta_{1}{\\left(t \\right)}\\\\\\sin{\\left(\\theta_{2}{\\left(t \\right)} \\right)} \\frac{d}{d t} \\theta_{1}{\\left(t \\right)}\\\\\\frac{d}{d t} \\theta_{2}{\\left(t \\right)}\\\\- \\cos{\\left(\\theta_{2}{\\left(t \\right)} \\right)} \\frac{d}{d t} \\theta_{1}{\\left(t \\right)}\\end{matrix}\\right]$"
      ],
      "text/plain": [
       "Matrix([\n",
       "[0.8*cos(theta_2(t))*Derivative(theta_1(t), t)],\n",
       "[                                            0],\n",
       "[0.8*sin(theta_2(t))*Derivative(theta_1(t), t)],\n",
       "[    sin(theta_2(t))*Derivative(theta_1(t), t)],\n",
       "[                    Derivative(theta_2(t), t)],\n",
       "[   -cos(theta_2(t))*Derivative(theta_1(t), t)]])"
      ]
     },
     "execution_count": 56,
     "metadata": {},
     "output_type": "execute_result"
    }
   ],
   "source": [
    "#Calculate inverse and derivative of Transformation Matrix\n",
    "dsym_H02 = sp.diff(sym_H02, t)\n",
    "inv_sym_H02 = trinv(np.array(sym_H02))\n",
    "inv_sym_H02 = Matrix(inv_sym_H02)\n",
    "\n",
    "#Spatial Twist\n",
    "spatial_twist_2b = simplify(dsym_H02 @ inv_sym_H02)\n",
    "\n",
    "spatial_omega_2b = spatial_twist_2b[0:3, 0:3]\n",
    "spatial_omega_2b = Matrix(vex(np.array(spatial_omega_2b)))\n",
    "\n",
    "spatial_vel_2b = spatial_twist_2b[0:3, 3]\n",
    "\n",
    "#Twist 6x1 Vector Form\n",
    "spatial_twistv_2b = Matrix([\n",
    "    [spatial_vel_2b],\n",
    "    [spatial_omega_2b]\n",
    "])\n",
    "spatial_twistv_2b_answer = spatial_twistv_2b.subs({sp.Derivative(t_1, t): dtheta1}).subs({t_1: theta1}) #This is how to substitutde at the end\n",
    "spatial_twistv_2b_answer = simplify(spatial_twistv_2b_answer.subs({sp.Derivative(t_2, t): dtheta2}).subs({t_2: theta2}))\n",
    "\n",
    "#Body Twist\n",
    "body_twist_2b = simplify(inv_sym_H02 @ dsym_H02)\n",
    "\n",
    "body_omega_2b = body_twist_2b[0:3, 0:3]\n",
    "body_omega_2b = Matrix(vex(np.array(body_omega_2b)))\n",
    "\n",
    "body_vel_2b = body_twist_2b[0:3, 3]\n",
    "\n",
    "#Twist 6x1 Vector Form\n",
    "body_twistv_2b = Matrix([\n",
    "    [body_vel_2b],\n",
    "    [body_omega_2b]\n",
    "])\n",
    "body_twistv_2b_answer = body_twistv_2b.subs({sp.Derivative(t_1, t): dtheta1}).subs({t_1: theta1})\n",
    "body_twistv_2b_answer = simplify(body_twistv_2b_answer.subs({sp.Derivative(t_2, t): dtheta2}).subs({t_2: theta2}))\n",
    "\n",
    "print(\"Spatial Twist 2b\\n\")\n",
    "sp.pprint(spatial_twistv_2b_answer)\n",
    "print(\"Body Twist 2b\\n\")\n",
    "sp.pprint(body_twistv_2b_answer)\n",
    "\n",
    "body_twistv_2b\n"
   ]
  },
  {
   "cell_type": "markdown",
   "metadata": {},
   "source": [
    "## Problem 2c"
   ]
  },
  {
   "cell_type": "code",
   "execution_count": null,
   "metadata": {},
   "outputs": [],
   "source": []
  },
  {
   "cell_type": "markdown",
   "metadata": {},
   "source": [
    "## Problem 2d"
   ]
  },
  {
   "cell_type": "code",
   "execution_count": null,
   "metadata": {},
   "outputs": [],
   "source": []
  }
 ],
 "metadata": {
  "kernelspec": {
   "display_name": ".venv",
   "language": "python",
   "name": "python3"
  },
  "language_info": {
   "codemirror_mode": {
    "name": "ipython",
    "version": 3
   },
   "file_extension": ".py",
   "mimetype": "text/x-python",
   "name": "python",
   "nbconvert_exporter": "python",
   "pygments_lexer": "ipython3",
   "version": "3.12.8"
  }
 },
 "nbformat": 4,
 "nbformat_minor": 2
}
